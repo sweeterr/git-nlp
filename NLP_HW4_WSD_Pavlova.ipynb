{
 "cells": [
  {
   "cell_type": "code",
   "execution_count": 87,
   "metadata": {
    "collapsed": false
   },
   "outputs": [],
   "source": [
    "from nltk.corpus import wordnet"
   ]
  },
  {
   "cell_type": "markdown",
   "metadata": {},
   "source": [
    "<b>1) Найти все значения (синсеты) для лексемы plant<b>"
   ]
  },
  {
   "cell_type": "code",
   "execution_count": 88,
   "metadata": {
    "collapsed": false
   },
   "outputs": [
    {
     "name": "stdout",
     "output_type": "stream",
     "text": [
      "Synset('plant.n.01') buildings for carrying on industrial labor\n",
      "Synset('plant.n.02') (botany) a living organism lacking the power of locomotion\n",
      "Synset('plant.n.03') an actor situated in the audience whose acting is rehearsed but seems spontaneous to the audience\n",
      "Synset('plant.n.04') something planted secretly for discovery by another\n",
      "Synset('plant.v.01') put or set (seeds, seedlings, or plants) into the ground\n",
      "Synset('implant.v.01') fix or set securely or deeply\n",
      "Synset('establish.v.02') set up or lay the groundwork for\n",
      "Synset('plant.v.04') place into a river\n",
      "Synset('plant.v.05') place something or someone in a certain position in order to secretly observe or deceive\n",
      "Synset('plant.v.06') put firmly in the mind\n"
     ]
    }
   ],
   "source": [
    "plant = wordnet.synsets('plant')\n",
    "for ss in plant:\n",
    "    print(ss, ss.definition())"
   ]
  },
  {
   "cell_type": "markdown",
   "metadata": {},
   "source": [
    "<b>2) Найти определение для лексемы plant в значении (а) \"завод\" и в значении (b) \"растение\"</b>"
   ]
  },
  {
   "cell_type": "code",
   "execution_count": 89,
   "metadata": {
    "collapsed": false
   },
   "outputs": [
    {
     "name": "stdout",
     "output_type": "stream",
     "text": [
      "Synset('plant.n.01') buildings for carrying on industrial labor\n",
      "Synset('plant.n.02') (botany) a living organism lacking the power of locomotion\n"
     ]
    }
   ],
   "source": [
    "print(plant[0], plant[0].definition())\n",
    "print(plant[1], plant[1].definition())"
   ]
  },
  {
   "cell_type": "markdown",
   "metadata": {},
   "source": [
    "<b>3) Найдите два произвольных контекста для слова plant в значениях (a) \"завод\" и (b) \"растение\"; продемонстрируйте на них действие алгоритма Леска для разрешения неоднозначности</b>"
   ]
  },
  {
   "cell_type": "code",
   "execution_count": 90,
   "metadata": {
    "collapsed": false
   },
   "outputs": [
    {
     "name": "stdout",
     "output_type": "stream",
     "text": [
      "['County', 'Park', 'Nursery', 'specialises', 'in', 'plants', 'from', 'New', 'Zealand', 'many', 'grown', 'from', 'seed', 'collected', 'on', 'plant', 'hunting', 'expeditions']\n",
      "['Coun', 'Mark', 'Harris', 'council', 'leader', 'challenged', 'Labour', 'to', 'spell', 'out', 'how', 'they', 'would', 'tackle', 'the', 'problem', 'and', 'reveal', 'where', 'they', 'would', 'site', 'a', 'waste', 'treatment', 'plant']\n"
     ]
    }
   ],
   "source": [
    "sent1 = 'County Park Nursery specialises in plants from New Zealand, many grown from seed collected on plant hunting expeditions.'\n",
    "sent2 = 'Coun Mark Harris, council leader, challenged Labour to spell out how they would tackle the problem and reveal where they would site a waste treatment plant.'\n",
    "sent1_tokens = [word.strip('.,') for word in sent1.split(' ')]\n",
    "sent2_tokens = [word.strip('.,') for word in sent2.split(' ')]\n",
    "print(sent1_tokens)\n",
    "print(sent2_tokens)"
   ]
  },
  {
   "cell_type": "code",
   "execution_count": 91,
   "metadata": {
    "collapsed": false
   },
   "outputs": [
    {
     "name": "stdout",
     "output_type": "stream",
     "text": [
      "put firmly in the mind\n",
      "place something or someone in a certain position in order to secretly observe or deceive\n"
     ]
    }
   ],
   "source": [
    "from nltk.wsd import lesk\n",
    "print(lesk(sent1_tokens, 'plant').definition())\n",
    "print(lesk(sent2_tokens, 'plant').definition())"
   ]
  },
  {
   "cell_type": "markdown",
   "metadata": {},
   "source": [
    "Алгоритм Леска ошибся в обоих случаях. Более того, он ошибся даже с частью речи. Попробуем ограничить часть речи существительными."
   ]
  },
  {
   "cell_type": "code",
   "execution_count": 92,
   "metadata": {
    "collapsed": false
   },
   "outputs": [
    {
     "name": "stdout",
     "output_type": "stream",
     "text": [
      "an actor situated in the audience whose acting is rehearsed but seems spontaneous to the audience\n",
      "an actor situated in the audience whose acting is rehearsed but seems spontaneous to the audience\n"
     ]
    }
   ],
   "source": [
    "print(lesk(sent1_tokens, 'plant', 'n').definition())\n",
    "print(lesk(sent2_tokens, 'plant', 'n').definition())"
   ]
  },
  {
   "cell_type": "markdown",
   "metadata": {},
   "source": [
    "Не помогло :("
   ]
  },
  {
   "cell_type": "markdown",
   "metadata": {},
   "source": [
    "<b>4) Найдите гиперонимы для значения (a) и гиперонимы для значения (b)</b>"
   ]
  },
  {
   "cell_type": "code",
   "execution_count": 93,
   "metadata": {
    "collapsed": false
   },
   "outputs": [
    {
     "name": "stdout",
     "output_type": "stream",
     "text": [
      "Synset('building_complex.n.01') a whole structure (as a building) made up of interconnected or related structures\n",
      "Synset('organism.n.01') a living thing that has (or can develop) the ability to act or function independently\n"
     ]
    }
   ],
   "source": [
    "for ss in plant[0].hypernyms():\n",
    "    print(ss, ss.definition())\n",
    "for ss in plant[1].hypernyms():\n",
    "    print(ss, ss.definition())"
   ]
  },
  {
   "cell_type": "markdown",
   "metadata": {},
   "source": [
    "<b>5) Вычислите наименьшее расстояние между значением plant \"завод\" и значениями лексемы industry, а также plant \"растение\" и значениями лексемы leaf.\n",
    "Найти min (d(plant: \"завод\", industry), d(plant: \"завод\", leaf)), а также min (d(plant: \"растение\", industry), d(plant: \"растение\", leaf))</b>"
   ]
  },
  {
   "cell_type": "code",
   "execution_count": 94,
   "metadata": {
    "collapsed": false
   },
   "outputs": [
    {
     "name": "stdout",
     "output_type": "stream",
     "text": [
      "min d(plant: \"завод\", industry): 13\n",
      "closest lemma definition: persevering determination to perform a task\n",
      "\n",
      "min d(plant: \"завод\", leaf): 8\n",
      "closest lemma definition: the main organ of photosynthesis and transpiration in higher plants\n",
      "\n",
      "min d(plant: \"растение\", industry): 12\n",
      "closest lemma definition: persevering determination to perform a task\n",
      "\n",
      "min d(plant: \"растение\", leaf): 7\n",
      "closest lemma definition: the main organ of photosynthesis and transpiration in higher plants\n",
      "\n",
      "min (d(plant: \"завод\", industry), d(plant: \"завод\", leaf)): 8\n",
      "min (d(plant: \"растение\", industry), d(plant: \"растение\", leaf)): 7\n"
     ]
    }
   ],
   "source": [
    "industry = wordnet.synsets('industry')\n",
    "leaf = wordnet.synsets('leaf')\n",
    "\n",
    "def get_dist_sim(ss1, lexeme):\n",
    "    distances = []\n",
    "    similarities = []\n",
    "    for ss2 in lexeme:\n",
    "        dist = ss1.shortest_path_distance(ss2)\n",
    "        if dist is not None:\n",
    "            distances.append(dist)\n",
    "            sim = ss1.path_similarity(ss2)\n",
    "            similarities.append(sim)\n",
    "    return distances, similarities\n",
    "\n",
    "# min d(plant: \"завод\", industry)\n",
    "dist1 = get_dist_sim(plant[0], industry)[0]\n",
    "print('min d(plant: \"завод\", industry): {}'.format(min(dist1)))\n",
    "print('closest lemma definition: {}\\n'.format(industry[dist1.index(min(dist1))].definition()))\n",
    "# Правда, здесь выводится только одно ближайшее значение. Их может быть несколько.\n",
    "\n",
    "# min d(plant: \"завод\", leaf)\n",
    "dist2 = get_dist_sim(plant[0], leaf)[0]\n",
    "print('min d(plant: \"завод\", leaf): {}'.format(min(dist2)))\n",
    "print('closest lemma definition: {}\\n'.format(leaf[dist2.index(min(dist2))].definition()))\n",
    "\n",
    "# min d(plant: \"растение\", industry)\n",
    "dist3 = get_dist_sim(plant[1], industry)[0]\n",
    "print('min d(plant: \"растение\", industry): {}'.format(min(dist3)))\n",
    "print('closest lemma definition: {}\\n'.format(industry[dist3.index(min(dist3))].definition()))\n",
    "\n",
    "# min d(plant: \"растение\", leaf)\n",
    "dist4 = get_dist_sim(plant[1], leaf)[0]\n",
    "print('min d(plant: \"растение\", leaf): {}'.format(min(dist4)))\n",
    "print('closest lemma definition: {}\\n'.format(leaf[dist4.index(min(dist4))].definition()))\n",
    "\n",
    "print('min (d(plant: \"завод\", industry), d(plant: \"завод\", leaf)): {}'.format(min(min(dist1), min(dist2))))\n",
    "print('min (d(plant: \"растение\", industry), d(plant: \"растение\", leaf)): {}'.format(min(min(dist3), min(dist4))))"
   ]
  },
  {
   "cell_type": "markdown",
   "metadata": {},
   "source": [
    "Кратчайшее расстояние от завода до industry - 13 (и у ближайшей леммы industry весьма не тривиальное для данного задания значение), до leaf - 8. Получается, что до leaf расстояние короче, что кажется странным.\n",
    "Кратчайшее расстояние от растения до industry - 12, до leaf - 7. До leaf расстояние короче, слава богу.\n",
    "\n",
    "Если имелось в виду посчитать не расстояние, а сходство путей на основе кратчайшего расстояния (минимальный путь --> максимальное сходство), вот оно:"
   ]
  },
  {
   "cell_type": "code",
   "execution_count": 95,
   "metadata": {
    "collapsed": false
   },
   "outputs": [
    {
     "name": "stdout",
     "output_type": "stream",
     "text": [
      "max s(plant: \"завод\", industry): 0.07142857142857142\n",
      "closest lemma definition: persevering determination to perform a task\n",
      "\n",
      "max s(plant: \"завод\", leaf): 0.1111111111111111\n",
      "closest lemma definition: the main organ of photosynthesis and transpiration in higher plants\n",
      "\n",
      "max s(plant: \"растение\", industry): 0.06666666666666667\n",
      "closest lemma definition: persevering determination to perform a task\n",
      "\n",
      "max s(plant: \"растение\", leaf): 0.125\n",
      "closest lemma definition: the main organ of photosynthesis and transpiration in higher plants\n",
      "\n",
      "max (s(plant: \"завод\", industry), s(plant: \"завод\", leaf)): 0.1111111111111111\n",
      "max (s(plant: \"растение\", industry), s(plant: \"растение\", leaf)): 0.125\n"
     ]
    }
   ],
   "source": [
    "# max s(plant: \"завод\", industry)\n",
    "sim1 = get_dist_sim(plant[0], industry)[1]\n",
    "print('max s(plant: \"завод\", industry): {}'.format(max(sim1)))\n",
    "print('closest lemma definition: {}\\n'.format(industry[sim1.index(max(sim1))].definition()))\n",
    "# Правда, здесь выводится только одно ближайшее значение. Их может быть несколько.\n",
    "\n",
    "# max s(plant: \"завод\", leaf)\n",
    "sim2 = get_dist_sim(plant[0], leaf)[1]\n",
    "print('max s(plant: \"завод\", leaf): {}'.format(max(sim2)))\n",
    "print('closest lemma definition: {}\\n'.format(leaf[sim2.index(max(sim2))].definition()))\n",
    "\n",
    "# max s(plant: \"растение\", industry)\n",
    "sim3 = get_dist_sim(plant[1], industry)[1]\n",
    "print('max s(plant: \"растение\", industry): {}'.format(min(sim3)))\n",
    "print('closest lemma definition: {}\\n'.format(industry[sim3.index(max(sim3))].definition()))\n",
    "\n",
    "# max s(plant: \"растение\", leaf)\n",
    "sim4 = get_dist_sim(plant[1], leaf)[1]\n",
    "print('max s(plant: \"растение\", leaf): {}'.format(max(sim4)))\n",
    "print('closest lemma definition: {}\\n'.format(leaf[sim4.index(max(sim4))].definition()))\n",
    "\n",
    "print('max (s(plant: \"завод\", industry), s(plant: \"завод\", leaf)): {}'.format(max(max(sim1), max(sim2))))\n",
    "print('max (s(plant: \"растение\", industry), s(plant: \"растение\", leaf)): {}'.format(max(max(sim3), max(sim4))))"
   ]
  },
  {
   "cell_type": "markdown",
   "metadata": {},
   "source": [
    "Результат тот же (что ожидаемо, потому что используется фактически одна и та же мера). И завод, и растение ближе к leaf.\n",
    "\n",
    "<b>6) Вычислить двумя разными способами расстояние:\n",
    "d(plant: \"растение\", rattlesnake's master) и d(organism, whole)\n",
    "Есть ли разница в расстояниях? Какое из расстояний, по Вашему мнению, в лучшей степени отражает интуитивное представление о семантчиеской близости слов?</b>\n",
    "\n",
    "А вот здесь же точно речь идет о сходстве/близости значений, а не о стандартном расстоянии? (Потому что стандартное расстояние - кратчайший путь - трудно считать несколькими способами.)\n",
    "\n",
    "Synset rattlesnake's master не находится, по-видимому, из-за апострофа или пробела. Заменим пробел на подчеркивание - всё ок."
   ]
  },
  {
   "cell_type": "code",
   "execution_count": 103,
   "metadata": {
    "collapsed": false
   },
   "outputs": [
    {
     "name": "stdout",
     "output_type": "stream",
     "text": [
      "Synset('rattlesnake_master.n.01') coarse prickly perennial eryngo of United States thought to cure rattlesnake bite\n"
     ]
    }
   ],
   "source": [
    "master = wordnet.synsets(\"rattlesnake's_master\")\n",
    "for ss in master:\n",
    "    print(ss, ss.definition())"
   ]
  },
  {
   "cell_type": "markdown",
   "metadata": {},
   "source": [
    "Посчитаем близость с помощью критериев Path Similarity, Leacock-Chodorow Similarity, Wu-Palmer Similarity, Resnik Similarity, Jiang-Conrath Similarity и Lin Similarity. Для последних трех будем использовать Information Content корпуса Brown."
   ]
  },
  {
   "cell_type": "code",
   "execution_count": 107,
   "metadata": {
    "collapsed": false
   },
   "outputs": [
    {
     "name": "stdout",
     "output_type": "stream",
     "text": [
      "0.3333333333333333\n",
      "2.538973871058276\n",
      "0.875\n",
      "5.948206741643484\n",
      "1e-300\n",
      "1.1896413483286967e-299\n"
     ]
    }
   ],
   "source": [
    "from nltk.corpus import wordnet_ic\n",
    "ic = wordnet_ic.ic('ic-brown.dat')\n",
    "\n",
    "print(plant[1].path_similarity(master[0]))\n",
    "\n",
    "#Leacock-Chodorow Similarity\n",
    "print(plant[1].lch_similarity(master[0]))\n",
    "\n",
    "#Wu-Palmer Similarity\n",
    "print(plant[1].wup_similarity(master[0]))\n",
    "    \n",
    "#Resnik Similarity\n",
    "print(plant[1].res_similarity(master[0], ic))\n",
    "    \n",
    "#Jiang-Conrath Similarity\n",
    "print(plant[1].jcn_similarity(master[0], ic))\n",
    "    \n",
    "#Lin Similarity\n",
    "print(plant[1].lin_similarity(master[0], ic))\n"
   ]
  },
  {
   "cell_type": "code",
   "execution_count": 112,
   "metadata": {
    "collapsed": false
   },
   "outputs": [
    {
     "name": "stdout",
     "output_type": "stream",
     "text": [
      "Synset('organism.n.01') a living thing that has (or can develop) the ability to act or function independently\n",
      "Synset('organism.n.01') []\n",
      "Synset('organism.n.02') a system considered analogous in structure or function to a living body\n",
      "Synset('organism.n.02') ['the social organism']\n"
     ]
    }
   ],
   "source": [
    "organism = wordnet.synsets('organism')\n",
    "for ss in organism:\n",
    "    print(ss, ss.definition())\n",
    "    print(ss, ss.examples())"
   ]
  },
  {
   "cell_type": "code",
   "execution_count": 113,
   "metadata": {
    "collapsed": false
   },
   "outputs": [
    {
     "name": "stdout",
     "output_type": "stream",
     "text": [
      "Synset('whole.n.01') all of something including all its component elements or parts\n",
      "Synset('whole.n.01') ['Europe considered as a whole', 'the whole of American literature']\n",
      "Synset('whole.n.02') an assemblage of parts that is regarded as a single entity\n",
      "Synset('whole.n.02') ['how big is that part compared to the whole?', 'the team is a unit']\n"
     ]
    }
   ],
   "source": [
    "whole = wordnet.synsets('whole', 'n')\n",
    "for ss in whole:\n",
    "    print(ss, ss.definition())\n",
    "    print(ss, ss.examples())"
   ]
  },
  {
   "cell_type": "code",
   "execution_count": 111,
   "metadata": {
    "collapsed": false
   },
   "outputs": [
    {
     "name": "stdout",
     "output_type": "stream",
     "text": [
      "a living thing that has (or can develop) the ability to act or function independently\n",
      "all of something including all its component elements or parts\n",
      "0.07692307692307693\n",
      "1.072636802264849\n",
      "0.14285714285714285\n",
      "-0.0\n",
      "0.11927453545173074\n",
      "-0.0\n",
      "an assemblage of parts that is regarded as a single entity\n",
      "0.3333333333333333\n",
      "2.538973871058276\n",
      "0.8\n",
      "1.5318337432196856\n",
      "1.4444255924181877\n",
      "0.8156763478002892\n",
      "a system considered analogous in structure or function to a living body\n",
      "all of something including all its component elements or parts\n",
      "0.1\n",
      "1.3350010667323402\n",
      "0.3076923076923077\n",
      "0.5962292078977726\n",
      "0.05928363701403374\n",
      "0.0660256991738309\n",
      "an assemblage of parts that is regarded as a single entity\n",
      "0.125\n",
      "1.55814461804655\n",
      "0.2222222222222222\n",
      "-0.0\n",
      "0.07444639262208605\n",
      "-0.0\n"
     ]
    }
   ],
   "source": [
    "for ss1 in organism:\n",
    "    print(ss1.definition())\n",
    "    for ss2 in whole:\n",
    "        print(ss2.definition())\n",
    "        print(ss1.path_similarity(ss2))\n",
    "\n",
    "        #Leacock-Chodorow Similarity\n",
    "        print(ss1.lch_similarity(ss2))\n",
    "\n",
    "        #Wu-Palmer Similarity\n",
    "        print(ss1.wup_similarity(ss2))\n",
    "\n",
    "        #Resnik Similarity\n",
    "        print(ss1.res_similarity(ss2, ic))\n",
    "\n",
    "        #Jiang-Conrath Similarity\n",
    "        print(ss1.jcn_similarity(ss2, ic))\n",
    "\n",
    "        #Lin Similarity\n",
    "        print(ss1.lin_similarity(ss2, ic))"
   ]
  },
  {
   "cell_type": "markdown",
   "metadata": {},
   "source": [
    "<style type=\"text/css\">\n",
    "\ttable.tableizer-table {\n",
    "\t\tfont-size: 12px;\n",
    "\t\tborder: 1px solid #CCC; \n",
    "\t\tfont-family: Arial, Helvetica, sans-serif;\n",
    "\t} \n",
    "\t.tableizer-table td {\n",
    "\t\tpadding: 4px;\n",
    "\t\tmargin: 3px;\n",
    "\t\tborder: 1px solid #CCC;\n",
    "\t}\n",
    "\t.tableizer-table th {\n",
    "\t\tbackground-color: #104E8B; \n",
    "\t\tcolor: #FFF;\n",
    "\t\tfont-weight: bold;\n",
    "\t}\n",
    "</style>\n",
    "<table class=\"tableizer-table\">\n",
    "<thead><tr class=\"tableizer-firstrow\"><th>Similarity Index</th><th>растение/rattlesnake's master</th><th>a living thing / all of something</th><th>a living thing / an assemblage</th><th>a system / all of something</th><th>a system / an assemblage</th></tr></thead><tbody>\n",
    " <tr><td>Path Similarity</td><td>0.3333333333</td><td>0.07692307692</td><td>0.3333333333</td><td>0.1</td><td>0.125</td></tr>\n",
    " <tr><td>Leacock-Chodorow Similarity</td><td>2.538973871</td><td>1.072636802</td><td>2.538973871</td><td>1.335001067</td><td>1.558144618</td></tr>\n",
    " <tr><td>Wu-Palmer Similarity</td><td>0.875</td><td>0.1428571429</td><td>0.8</td><td>0.3076923077</td><td>0.2222222222</td></tr>\n",
    " <tr><td>Resnik Similarity</td><td>5.948206742</td><td>0</td><td>1.531833743</td><td>0.5962292079</td><td>0</td></tr>\n",
    " <tr><td>Jiang-Conrath Similarity</td><td>1.00E-300</td><td>0.1192745355</td><td>1.444425592</td><td>0.05928363701</td><td>0.07444639262</td></tr>\n",
    " <tr><td>Lin Similarity</td><td>1.19E-299</td><td>0</td><td>0.8156763478</td><td>0.06602569917</td><td>0</td></tr>\n",
    "</tbody></table>"
   ]
  },
  {
   "cell_type": "markdown",
   "metadata": {},
   "source": [
    "Rattlesnake's master просто является гипонимом растения. Как его сравнивать с organism/whole не совсем понятно, потому что во втором случае нет таких прямых отношений. За исключением последних двух индексов у этой пары самые большие показатели схожести.\n",
    "\n",
    "Интуитивно кажется, что оба значения организма (a living thing that has (or can develop) the ability to act or function independently; a system considered analogous in structure or function to a living body) должны быть больше похожи на второе значение целого (an assemblage of parts that is regarded as a single entity), чем на первое (all of something including all its component elements or parts). То есть четвертый и шестой столбцы в таблице должны быть больше, чем третий и пятый. Хотя второе значение организма и первое значение целого тоже близки.\n",
    "\n",
    "В четвертом столбце действительно самые большие индексы среди организма/целого. По последним двум индексам эта пара превосходит и растение/rattlesnake's master. \n",
    "\n",
    "Показатели в шестом же столбце больше третьего и пятого только для первых двух индексов (по Wu-Palmer Similarity разница небольшая). Первые два индекса, кстати, дают более или менее пропорциональные величины, и сравнение по ним дает одинаковые результаты (это значит, что глубина наших значений в данном случае не влияет на результат).\n",
    "\n",
    "У пары растение/rattlesnake's master по последним двум индексам значения очень близкие к нулю. Кажется, что это противоречит интуиции. Resnik Similarity и Lin Similarity в третьем и шестом столбце дают нули. Непонятно, говорит ли это о полной несхожести значений или это специфика индекса/корпуса/данных.\n",
    "\n",
    "А вообще, значения индексов в основном довольно маленькие. Не совсем понятно, насколько целесообразно сравнение сотых и тысячных долей.\n",
    "\n",
    "Если учитывать всё сразу, первые три индекса более или менее отражают интуитивное представление о близости слов."
   ]
  },
  {
   "cell_type": "code",
   "execution_count": null,
   "metadata": {
    "collapsed": true
   },
   "outputs": [],
   "source": []
  }
 ],
 "metadata": {
  "kernelspec": {
   "display_name": "Python 3",
   "language": "python",
   "name": "python3"
  },
  "language_info": {
   "codemirror_mode": {
    "name": "ipython",
    "version": 3
   },
   "file_extension": ".py",
   "mimetype": "text/x-python",
   "name": "python",
   "nbconvert_exporter": "python",
   "pygments_lexer": "ipython3",
   "version": "3.5.2"
  }
 },
 "nbformat": 4,
 "nbformat_minor": 0
}
